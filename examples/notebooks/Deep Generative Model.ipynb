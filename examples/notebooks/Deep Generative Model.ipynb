{
 "cells": [
  {
   "cell_type": "code",
   "execution_count": 1,
   "metadata": {
    "code_folding": [
     0
    ]
   },
   "outputs": [],
   "source": [
    "# Imports\n",
    "import torch\n",
    "from torch.utils.data import TensorDataset, DataLoader\n",
    "from torch.utils.data import random_split\n",
    "import torchvision.transforms as transforms\n",
    "import torch.nn.functional as F\n",
    "\n",
    "cuda = torch.cuda.is_available()\n",
    "import numpy as np\n",
    "import matplotlib.pyplot as plt\n",
    "%matplotlib inline\n",
    "\n",
    "import scipy.io\n",
    "import sys\n",
    "sys.path.append(\"../../semi-supervised\")"
   ]
  },
  {
   "cell_type": "markdown",
   "metadata": {},
   "source": [
    "# Deep Generative Model\n",
    "\n",
    "In this notebook we show how you can use the deep \"generative model for semi-supervised learning\" as presented in [[Kingma 2014]](https://arxiv.org/abs/1406.5298). The paper posits three different models, though we are just interested in two of these: the M2 model and the M1+M2 model.\n",
    "\n",
    "The M1 model is just a variational autoencoder, so we refer to the previous notebook for more information on this. The M2 model however is an extension to the VAE to include label information for a semi-supervised objective. The structure is shown below (left: inference model, right: generative model).\n",
    "\n",
    "<img src=\"../images/dgm.png\" width=\"400px\"/>\n",
    "\n",
    "The point of the generative model is to seperate the partially observed label information $y$ from the latent variable $z$ in order to learn a representation that seperates these two variables. We can use this model for semi-supervised learning as the inference model must also infer the label from the data $x$ along with the latent variable $z$."
   ]
  },
  {
   "cell_type": "code",
   "execution_count": 2,
   "metadata": {},
   "outputs": [
    {
     "name": "stderr",
     "output_type": "stream",
     "text": [
      "c:\\Users\\jwang47\\OneDrive - Delft University of Technology\\Generate_Volatility_Surface\\Code\\semi-supervised-pytorch20241028\\examples\\notebooks\\../../semi-supervised\\models\\vae.py:114: FutureWarning: `nn.init.xavier_normal` is now deprecated in favor of `nn.init.xavier_normal_`.\n",
      "  init.xavier_normal(m.weight.data)\n",
      "c:\\Users\\jwang47\\OneDrive - Delft University of Technology\\Generate_Volatility_Surface\\Code\\semi-supervised-pytorch20241028\\examples\\notebooks\\../../semi-supervised\\models\\dgm.py:66: FutureWarning: `nn.init.xavier_normal` is now deprecated in favor of `nn.init.xavier_normal_`.\n",
      "  init.xavier_normal(m.weight.data)\n"
     ]
    },
    {
     "data": {
      "text/plain": [
       "DeepGenerativeModel(\n",
       "  (encoder): Encoder(\n",
       "    (hidden): ModuleList(\n",
       "      (0): Linear(in_features=785, out_features=256, bias=True)\n",
       "      (1): Linear(in_features=256, out_features=128, bias=True)\n",
       "    )\n",
       "    (sample): GaussianSample(\n",
       "      (mu): Linear(in_features=128, out_features=32, bias=True)\n",
       "      (log_var): Linear(in_features=128, out_features=32, bias=True)\n",
       "    )\n",
       "  )\n",
       "  (decoder): Decoder(\n",
       "    (hidden): ModuleList(\n",
       "      (0): Linear(in_features=33, out_features=128, bias=True)\n",
       "      (1): Linear(in_features=128, out_features=256, bias=True)\n",
       "    )\n",
       "    (reconstruction): Linear(in_features=256, out_features=784, bias=True)\n",
       "    (output_activation): Sigmoid()\n",
       "  )\n",
       "  (classifier): Classifier(\n",
       "    (dense): Linear(in_features=784, out_features=256, bias=True)\n",
       "    (logits): Linear(in_features=256, out_features=1, bias=True)\n",
       "  )\n",
       "  (regressor): Regressor(\n",
       "    (dense): Linear(in_features=784, out_features=256, bias=True)\n",
       "    (output): Linear(in_features=256, out_features=1, bias=True)\n",
       "  )\n",
       ")"
      ]
     },
     "execution_count": 2,
     "metadata": {},
     "output_type": "execute_result"
    }
   ],
   "source": [
    "from models import DeepGenerativeModel, StackedDeepGenerativeModel\n",
    "\n",
    "y_dim = 1\n",
    "z_dim = 32\n",
    "h_dim = [256, 128]\n",
    "\n",
    "model = DeepGenerativeModel([784, y_dim, z_dim, h_dim])\n",
    "model"
   ]
  },
  {
   "cell_type": "code",
   "execution_count": 3,
   "metadata": {},
   "outputs": [
    {
     "name": "stdout",
     "output_type": "stream",
     "text": [
      "Linear(in_features=785, out_features=256, bias=True)\n",
      "Linear(in_features=33, out_features=128, bias=True)\n"
     ]
    }
   ],
   "source": [
    "print(model.encoder.hidden[0])\n",
    "print(model.decoder.hidden[0])"
   ]
  },
  {
   "cell_type": "markdown",
   "metadata": {},
   "source": [
    "Notice how theres now a classifier associated with model. This classifier will just be a simple model that takes the size of the first layer encoder network. We also have a larger input space on both the encoder and decoder to make room for label information, in this case 10 labels.\n"
   ]
  },
  {
   "cell_type": "markdown",
   "metadata": {},
   "source": [
    "## Training\n",
    "\n",
    "Recall the ELBO from the VAE formulation, we want to construct a similar ELBO when we include labelled data $y$. In the case that we have labels, the ELBO has a simple formulation that is similar to the one for the VAE. The difference here is that we must also have a prior over labels $p(y)$, which we choose to be uniform over the different classes.\n",
    "\n",
    "\\begin{align}\n",
    "\\log p(x, y) &= \\log \\int q(z|x, y) \\frac{p(x, y, z)}{q(z|xy)} \\ dz \\geq \\int q(z|x, y) \\log \\frac{p(x, y, z)}{q(z|xy)} \\ dz\\\\\n",
    "&= \\int q(z|x, y) [ \\log p(x|z,y) + \\log p(y) ] \\ dz + \\int q(z|x, y) \\log \\frac{p(z)}{q(z|xy)} \\ dz\\\\\n",
    "&= \\mathbb{E}_{q(z|x, y)} [ \\log p(x|z,y) + \\log p(y) ] - KL(p(z)||q(z|xy)) = - \\mathcal{L}(x, y)\n",
    "\\end{align}\n",
    "\n",
    "In the case when the labels are not observed, we can instead integrate over all of the labels to achieve the same effect.\n",
    "\n",
    "\\begin{align}\n",
    "\\log p(x) &= \\log \\sum_{y} \\int q(z,y|x) \\frac{p(x, y, z)}{q(z,y|x)} \\ dz \\geq \\sum_{y} q(y|x) \\int q(z|x, y) \\log \\frac{p(x, y, z)}{q(z,y|x)} \\ dz\\\\\n",
    "&= \\sum_{y} q(y|x) \\int q(z|x, y) \\log \\frac{p(x, y, z)}{q(z,y|x)} \\ dz + \\sum_{y} q(y|x) \\log q(y|x) \\int q(z|x, y) \\ dz\\\\\n",
    "&= \\sum_{y} q(y|x) (- \\mathcal{L}(x,y)) + \\mathcal{H}(q(y|x)) = - \\mathcal{U}(x)\n",
    "\\end{align}\n",
    "\n",
    "Notice how in both cases we need to compute the labelled bound, but in the unlabelled case we need to do it $n$ times where $n$ is the number of classes. In this model, we do not learn directly from the labelled class, as there is no cross entropy term between $y$ and our model output $q(y|x)$. We therefore add an auxiliary loss to arrive at the final loss objective.\n",
    "\n",
    "$$\\mathcal{J}^{\\alpha} = \\sum_{(x_l, y_l)}\\mathcal{L}(x_l, y_l) + \\alpha \\cdot \\mathbb{E}_{x_l, y_l}[- \\log q(y_l|x_l)] + \\sum_{(x_u)}\\mathcal{U}(x_u)$$\n",
    "\n",
    "Where $l, u$ denotes labelled and unlabelled data respectively and $\\alpha$ is a hyperparameter that denotes the reliance of labelled data."
   ]
  },
  {
   "cell_type": "code",
   "execution_count": 4,
   "metadata": {},
   "outputs": [
    {
     "name": "stderr",
     "output_type": "stream",
     "text": [
      "c:\\Users\\jwang47\\AppData\\Local\\anaconda3\\envs\\pytorch20241014\\Lib\\site-packages\\torchvision\\datasets\\mnist.py:66: UserWarning: train_labels has been renamed targets\n",
      "  warnings.warn(\"train_labels has been renamed targets\")\n",
      "c:\\Users\\jwang47\\AppData\\Local\\anaconda3\\envs\\pytorch20241014\\Lib\\site-packages\\torchvision\\datasets\\mnist.py:71: UserWarning: test_labels has been renamed targets\n",
      "  warnings.warn(\"test_labels has been renamed targets\")\n"
     ]
    }
   ],
   "source": [
    "from datautils import get_mnist\n",
    "\n",
    "# Only use 10 labelled examples per class\n",
    "# The rest of the data is unlabelled.\n",
    "labelled, unlabelled, validation = get_mnist(location=\"./\", batch_size=64, labels_per_class=10)\n",
    "alpha = 0.1 * len(unlabelled) / len(labelled)\n",
    "\n",
    "def binary_cross_entropy(r, x):\n",
    "    return -torch.sum(x * torch.log(r + 1e-8) + (1 - x) * torch.log(1 - r + 1e-8), dim=-1)\n",
    "\n",
    "optimizer = torch.optim.Adam(model.parameters(), lr=3e-4, betas=(0.9, 0.999))"
   ]
  },
  {
   "cell_type": "markdown",
   "metadata": {},
   "source": [
    "# Load Data"
   ]
  },
  {
   "cell_type": "code",
   "execution_count": 5,
   "metadata": {},
   "outputs": [],
   "source": [
    "data = scipy.io.loadmat('./data/heston_vol_images_train_30000.mat')\n",
    "impliedVolsurfaces = torch.tensor(data['impliedVolsurfaces_collection']).float()\n",
    "\n",
    "max_val = torch.max(impliedVolsurfaces)\n",
    "min_val = torch.min(impliedVolsurfaces)\n",
    "\n",
    "impliedVolsurfaces_normalized = (impliedVolsurfaces - min_val) / (max_val - min_val)\n",
    "\n",
    "impliedVolsurfaces_normalized_flatten = impliedVolsurfaces_normalized.reshape(30000, 784)\n",
    "\n",
    "\n",
    "n = 10 # 矩阵维度\n",
    "m = 30000 # 矩阵个数\n",
    "\n",
    "random_ints = np.random.randint(n, size=m) # 生成随机整数序列\n",
    "one_hot_matrix = np.eye(n)[random_ints] # 转化成one-hot矩阵\n",
    "# fake_tar = torch.tensor(one_hot_matrix).float()\n",
    "\n",
    "tar = torch.mean(impliedVolsurfaces_normalized.reshape(30000, 784), dim=1)\n",
    "ivs = TensorDataset(impliedVolsurfaces_normalized_flatten, tar)\n",
    "\n",
    "torch.manual_seed(0)\n",
    "\n",
    "total_size = len(ivs)\n",
    "train_size = int(total_size * 0.7)\n",
    "labelled_size = int(train_size * 0.1)\n",
    "unlabelled_size = train_size - labelled_size\n",
    "validation_size = total_size - train_size\n",
    "\n",
    "\n",
    "labelled_dataset, unlabelled_dataset, validation_dataset = random_split(ivs, [labelled_size, unlabelled_size, validation_size])\n",
    "\n",
    "BATCH_SIZE = 64\n",
    "\n",
    "labelled = DataLoader(labelled_dataset, batch_size=BATCH_SIZE, shuffle=True)\n",
    "unlabelled = DataLoader(unlabelled_dataset, batch_size=BATCH_SIZE, shuffle=False)\n",
    "validation = DataLoader(validation_dataset, batch_size=BATCH_SIZE, shuffle=False)"
   ]
  },
  {
   "cell_type": "code",
   "execution_count": 6,
   "metadata": {},
   "outputs": [],
   "source": [
    "from itertools import cycle\n",
    "from inference import SVI, ImportanceWeightedSampler\n",
    "\n",
    "# You can use importance weighted samples [Burda, 2015] to get a better estimate\n",
    "# on the log-likelihood.\n",
    "sampler = ImportanceWeightedSampler(mc=1, iw=1)\n",
    "\n",
    "if cuda: model = model.cuda()\n",
    "elbo = SVI(model, likelihood=F.mse_loss, sampler=sampler)"
   ]
  },
  {
   "cell_type": "markdown",
   "metadata": {},
   "source": [
    "The library is conventially packed with the `SVI` method that does all of the work of calculating the lower bound for both labelled and unlabelled data depending on whether the label is given. It also manages to perform the enumeration of all the labels.\n",
    "\n",
    "Remember that the labels have to be in a *one-hot encoded* format in order to work with SVI."
   ]
  },
  {
   "cell_type": "code",
   "execution_count": 7,
   "metadata": {},
   "outputs": [
    {
     "name": "stderr",
     "output_type": "stream",
     "text": [
      "C:\\Users\\jwang47\\AppData\\Local\\Temp\\ipykernel_41944\\3499600497.py:22: UserWarning: Using a target size (torch.Size([64])) that is different to the input size (torch.Size([64, 1])). This will likely lead to incorrect results due to broadcasting. Please ensure they have the same size.\n",
      "  regression_loss = F.mse_loss(pred_y, y)\n",
      "C:\\Users\\jwang47\\AppData\\Local\\Temp\\ipykernel_41944\\3499600497.py:22: UserWarning: Using a target size (torch.Size([52])) that is different to the input size (torch.Size([52, 1])). This will likely lead to incorrect results due to broadcasting. Please ensure they have the same size.\n",
      "  regression_loss = F.mse_loss(pred_y, y)\n"
     ]
    },
    {
     "name": "stdout",
     "output_type": "stream",
     "text": [
      "Epoch: 0\n"
     ]
    },
    {
     "name": "stderr",
     "output_type": "stream",
     "text": [
      "C:\\Users\\jwang47\\AppData\\Local\\Temp\\ipykernel_41944\\3499600497.py:52: UserWarning: Using a target size (torch.Size([64])) that is different to the input size (torch.Size([64, 1])). This will likely lead to incorrect results due to broadcasting. Please ensure they have the same size.\n",
      "  regression_loss = F.mse_loss(pred_y, y)\n",
      "C:\\Users\\jwang47\\AppData\\Local\\Temp\\ipykernel_41944\\3499600497.py:52: UserWarning: Using a target size (torch.Size([40])) that is different to the input size (torch.Size([40, 1])). This will likely lead to incorrect results due to broadcasting. Please ensure they have the same size.\n",
      "  regression_loss = F.mse_loss(pred_y, y)\n"
     ]
    },
    {
     "name": "stdout",
     "output_type": "stream",
     "text": [
      "[Validation]\t J_a: 79196766.70\n",
      "Epoch: 1\n",
      "[Validation]\t J_a: 1321282307.63\n",
      "Epoch: 2\n",
      "[Validation]\t J_a: 6469861942.47\n",
      "Epoch: 3\n",
      "[Validation]\t J_a: 19201967779.40\n",
      "Epoch: 4\n",
      "[Validation]\t J_a: 43534230201.19\n",
      "Epoch: 5\n",
      "[Validation]\t J_a: 83560075002.55\n",
      "Epoch: 6\n",
      "[Validation]\t J_a: 143253352825.65\n",
      "Epoch: 7\n",
      "[Validation]\t J_a: 226551246528.45\n",
      "Epoch: 8\n",
      "[Validation]\t J_a: 337230201529.19\n",
      "Epoch: 9\n",
      "[Validation]\t J_a: 478918471128.06\n"
     ]
    }
   ],
   "source": [
    "from torch.autograd import Variable\n",
    "\n",
    "for epoch in range(10):\n",
    "    model.train()\n",
    "    total_loss, accuracy = (0, 0)\n",
    "    for (x, y), (u, _) in zip(cycle(labelled), unlabelled):\n",
    "        # Wrap in variables\n",
    "        x, y, u = Variable(x), Variable(y), Variable(u)\n",
    "\n",
    "        if cuda:\n",
    "            # They need to be on the same device and be synchronized.\n",
    "            x, y = x.cuda(device=0), y.cuda(device=0)\n",
    "            u = u.cuda(device=0)\n",
    "\n",
    "        L = -elbo(x, y)\n",
    "        U = -elbo(u)\n",
    "\n",
    "        # Add auxiliary classification loss q(y|x)\n",
    "        pred_y = model.regress(x)\n",
    "        \n",
    "        # Regular cross entropy\n",
    "        regression_loss = F.mse_loss(pred_y, y)\n",
    "\n",
    "        J_alpha = L - alpha * regression_loss + U\n",
    "\n",
    "        J_alpha.backward()\n",
    "        optimizer.step()\n",
    "        optimizer.zero_grad()\n",
    "\n",
    "        total_loss += J_alpha.item()\n",
    "        # accuracy += torch.mean((torch.max(logits, 1)[1].data == torch.max(y, 1)[1].data).float())\n",
    "        \n",
    "    if epoch % 1 == 0:\n",
    "        model.eval()\n",
    "        m = len(unlabelled)\n",
    "        print(\"Epoch: {}\".format(epoch))\n",
    "        # print(\"[Train]\\t\\t J_a: {:.2f}, accuracy: {:.2f}\".format(total_loss / m, accuracy / m))\n",
    "\n",
    "        total_loss, accuracy = (0, 0)\n",
    "        for x, y in validation:\n",
    "            x, y = Variable(x), Variable(y)\n",
    "\n",
    "            if cuda:\n",
    "                x, y = x.cuda(device=0), y.cuda(device=0)\n",
    "\n",
    "            L = -elbo(x, y)\n",
    "            U = -elbo(x)\n",
    "\n",
    "            # logits = model.classify(x)\n",
    "            pred_y = model.regress(x)\n",
    "            # classication_loss = -torch.sum(y * torch.log(logits + 1e-8), dim=1).mean()\n",
    "            regression_loss = F.mse_loss(pred_y, y)\n",
    "\n",
    "            J_alpha = L + alpha * regression_loss + U\n",
    "\n",
    "            total_loss += J_alpha.item()\n",
    "\n",
    "            # _, pred_idx = torch.max(logits, 1)\n",
    "            # _, lab_idx = torch.max(y, 1)\n",
    "            # accuracy += torch.mean((torch.max(logits, 1)[1].data == torch.max(y, 1)[1].data).float())\n",
    "\n",
    "        m = len(validation)\n",
    "        print(\"[Validation]\\t J_a: {:.2f}\".format(total_loss / m))"
   ]
  },
  {
   "cell_type": "markdown",
   "metadata": {},
   "source": [
    "## Conditional generation\n",
    "\n",
    "When the model is done training you can generate samples conditionally given some normal distributed noise $z$ and a label $y$.\n",
    "\n",
    "*The model below has only trained for 10 iterations, so the perfomance is not representative*."
   ]
  },
  {
   "cell_type": "code",
   "execution_count": 8,
   "metadata": {},
   "outputs": [
    {
     "name": "stdout",
     "output_type": "stream",
     "text": [
      "torch.Size([16, 32]) torch.Size([16, 10])\n",
      "tensor([[-2.2117e+00, -1.2031e-01, -5.7718e-02, -4.0669e-01,  2.1195e-01,\n",
      "         -1.4541e-01,  4.8287e-01, -1.1537e+00, -2.1498e+00,  3.3518e-01,\n",
      "          8.4525e-01,  4.1519e-01, -1.4821e+00,  1.9524e+00,  1.5054e+00,\n",
      "         -3.6953e+00, -1.4864e+00,  1.5315e+00, -7.1116e-01, -7.9335e-01,\n",
      "         -6.1847e-02, -2.3430e-01, -1.3455e+00,  2.0232e+00,  2.1231e-01,\n",
      "         -2.2140e-02, -6.4951e-01, -1.6430e+00,  1.3915e+00, -4.8714e-01,\n",
      "         -4.0734e-01, -1.0668e+00],\n",
      "        [-1.2211e+00,  2.0726e+00, -9.5443e-01,  2.6014e+00, -3.3891e-01,\n",
      "          4.2673e-01,  1.0795e+00, -8.6225e-02, -1.3326e+00,  9.1020e-01,\n",
      "          5.0088e-01, -5.9222e-01, -6.0730e-01, -3.2112e-01,  7.7836e-01,\n",
      "         -1.2053e+00,  6.5148e-01,  8.4214e-01,  2.8483e-01, -1.4360e+00,\n",
      "          1.0461e+00, -1.8492e-01, -2.3991e-01, -3.4944e-01,  3.1313e-01,\n",
      "         -1.2630e+00, -9.0009e-01, -2.6550e-01,  6.6421e-01,  1.0674e+00,\n",
      "          6.6087e-01, -2.2429e+00],\n",
      "        [-1.9946e-01,  9.1155e-01, -1.7384e+00, -1.5950e+00,  1.5976e+00,\n",
      "         -1.2721e+00, -1.4689e+00, -1.0782e-01, -4.2956e-01, -2.0417e-01,\n",
      "          5.3781e-01,  8.3988e-01,  9.2283e-01, -3.9416e-01, -1.7462e+00,\n",
      "         -1.7755e+00, -4.3810e-01, -7.8712e-01,  6.7490e-01,  4.3617e-01,\n",
      "          2.3436e-01, -9.5910e-02, -1.4978e+00, -7.2354e-01,  6.4809e-02,\n",
      "         -1.0431e+00, -8.4764e-01, -2.2987e-01,  1.6299e+00, -5.5564e-01,\n",
      "          6.9608e-01, -5.4552e-01],\n",
      "        [-4.4222e-01,  1.2806e+00,  1.0575e+00, -1.4193e+00,  4.6681e-01,\n",
      "          5.0199e-01,  1.0543e+00,  1.0953e-01,  3.9520e-01, -1.8291e-01,\n",
      "          4.6458e-01,  8.0955e-01, -7.6618e-01, -5.3759e-01,  5.6515e-01,\n",
      "         -3.0468e-01,  4.7572e-01, -1.8733e+00,  1.5488e+00,  1.3873e+00,\n",
      "         -6.6738e-01,  1.0847e+00,  6.5162e-01,  8.7236e-01, -2.2426e-01,\n",
      "         -1.1597e+00, -4.0597e-01, -6.0856e-01,  1.7134e+00, -1.4677e+00,\n",
      "          2.9332e+00,  5.2526e-02],\n",
      "        [ 2.1124e+00, -4.5660e-01, -1.9340e-01,  9.1026e-01,  8.2536e-01,\n",
      "          6.9848e-01, -1.3947e+00, -4.4920e-01, -1.7688e+00,  5.8030e-01,\n",
      "          7.1356e-01,  3.5114e-01,  1.1014e-01,  9.8218e-02, -2.2653e-01,\n",
      "          3.1739e-01, -1.3519e+00,  6.7503e-02,  8.6776e-01, -1.0071e+00,\n",
      "         -1.0802e+00,  1.0850e+00,  7.7379e-01,  1.0231e+00,  1.2984e+00,\n",
      "         -3.1038e-01, -6.3277e-01, -2.8384e-01, -2.4436e-01,  1.4459e-01,\n",
      "          9.3716e-01, -5.5437e-02],\n",
      "        [-1.8553e+00, -2.9850e-01, -9.4686e-01, -2.9708e-01,  2.7328e-01,\n",
      "          4.2916e-02, -2.5713e+00, -1.4768e-01, -2.0561e-01, -1.1715e+00,\n",
      "          4.5034e-01,  4.0958e-02,  1.0968e+00, -1.5842e+00, -2.5677e-03,\n",
      "          6.8630e-01,  6.2357e-01,  8.7644e-01,  1.8528e-01, -8.7602e-01,\n",
      "         -2.3788e-01, -2.6960e-01,  1.0644e+00, -9.8788e-01,  4.8622e-01,\n",
      "         -7.8068e-01, -5.1759e-01,  5.8415e-01,  9.8632e-01, -3.9084e-01,\n",
      "         -1.3181e+00, -5.4995e-01],\n",
      "        [-1.1634e+00,  1.8728e+00,  1.8495e+00,  6.1428e-01, -5.3228e-01,\n",
      "         -6.4576e-01,  8.2916e-01, -1.3809e-01,  9.0362e-01,  1.1280e+00,\n",
      "         -4.9918e-01, -7.5487e-01, -6.1955e-01,  6.1719e-01, -1.7458e+00,\n",
      "          1.0341e-01, -1.7032e-01,  1.1315e-01,  1.3734e+00, -1.1639e+00,\n",
      "         -2.8838e-01, -5.3822e-01, -9.0028e-01,  1.5856e+00, -2.1354e-01,\n",
      "          1.2813e+00,  9.0484e-01,  2.4404e-01,  2.1107e+00, -6.7984e-01,\n",
      "          2.5508e+00,  8.7276e-01],\n",
      "        [-8.8588e-01, -6.0052e-01, -5.5645e-01,  4.7738e-01, -1.5947e-01,\n",
      "         -6.1311e-01, -9.4505e-01, -1.5503e+00,  3.4105e-01, -6.9720e-01,\n",
      "          3.7479e-01, -2.3696e-02, -4.0426e-01, -2.2456e-01, -9.7918e-01,\n",
      "          1.5527e+00, -3.8875e-01, -9.1193e-02,  4.2589e-01, -1.2856e+00,\n",
      "         -6.0703e-01,  1.3936e+00, -4.9706e-01, -5.0906e-02, -3.5419e-01,\n",
      "          1.0296e+00, -7.9359e-01, -1.0233e+00,  7.5863e-01, -2.2160e+00,\n",
      "          1.2755e+00,  1.0907e-01],\n",
      "        [ 4.9653e-01,  6.6760e-01,  1.3615e+00,  2.5485e-01,  3.5200e-01,\n",
      "          4.3273e-01, -4.9157e-01, -2.4308e+00, -9.9299e-01, -1.7358e+00,\n",
      "          1.6339e+00,  1.6350e-01,  7.2139e-01,  1.0186e-01, -1.0016e+00,\n",
      "         -6.9626e-01, -7.7701e-01, -9.6638e-01, -1.7989e+00,  2.8967e-01,\n",
      "         -7.5374e-01, -2.1970e-01,  7.5539e-01, -1.2800e+00,  4.0190e-01,\n",
      "          5.3121e-01, -6.5045e-01,  6.0102e-01, -6.0914e-02,  4.7209e-01,\n",
      "         -6.3364e-01, -1.0715e+00],\n",
      "        [-2.4847e+00, -2.5061e-01,  4.4626e-01, -8.3182e-01,  4.8573e-01,\n",
      "          7.0340e-01,  1.2145e-01, -1.1966e+00, -2.0129e-01, -5.6331e-01,\n",
      "         -1.4611e+00,  7.2856e-01, -6.7554e-01, -6.3208e-01, -8.6525e-01,\n",
      "         -1.0462e-01,  7.5003e-01, -7.7087e-01, -9.7240e-02,  4.0425e-01,\n",
      "          3.2419e-01, -9.6254e-01, -5.9085e-01,  4.0720e-01,  3.4160e-01,\n",
      "         -6.3185e-01, -3.7153e-01, -2.3796e-02, -3.5751e-01,  4.0058e-01,\n",
      "         -2.6326e-01, -4.2390e-01],\n",
      "        [-1.6926e+00, -4.4914e-01,  3.3229e-01, -8.6365e-01, -9.6413e-02,\n",
      "         -2.2479e+00,  1.0949e+00,  1.0958e+00,  7.2071e-01, -3.8416e-02,\n",
      "         -3.5166e-01, -1.2304e+00, -1.3178e-01,  4.8982e-01,  8.6482e-01,\n",
      "         -8.4585e-01,  9.6098e-02,  2.1690e+00, -1.6991e+00, -1.0432e+00,\n",
      "         -5.6559e-01,  2.1344e-01,  1.4762e+00,  1.1427e+00,  5.8992e-01,\n",
      "          8.6330e-02,  2.2669e-01,  1.3899e+00, -7.2699e-01, -2.7453e-01,\n",
      "         -6.1029e-01, -4.2783e-01],\n",
      "        [-4.3047e-01, -1.2350e+00, -1.9196e-01, -5.5623e-01, -5.9074e-01,\n",
      "         -3.8764e-01, -4.5968e-01,  1.9591e-01,  2.0079e+00, -8.8473e-01,\n",
      "          1.3151e+00, -3.6020e-01, -1.7001e-01, -9.8556e-01,  1.0120e+00,\n",
      "         -2.1036e+00, -1.6367e+00,  8.5342e-01, -3.1230e-01,  6.0756e-01,\n",
      "         -1.3634e+00,  7.7186e-01, -3.9158e-02,  9.4679e-01,  1.3518e+00,\n",
      "         -2.8803e-01,  1.4016e+00,  9.6948e-01, -1.0838e+00, -1.2207e-01,\n",
      "          5.3494e-01,  7.7777e-01],\n",
      "        [-1.5517e+00,  6.9248e-01,  2.5264e-01,  7.1934e-01, -1.0981e+00,\n",
      "          4.7256e-01, -1.3704e+00, -3.1140e-01,  1.4753e+00, -1.6431e+00,\n",
      "         -4.9728e-01, -6.4261e-01, -2.3451e-01,  7.4088e-02,  4.6153e-01,\n",
      "          1.2525e+00, -2.5266e-01, -4.8675e-03, -2.1430e-01, -2.4981e-01,\n",
      "          7.8968e-01,  3.9464e-01,  3.1467e-01, -2.0362e-01, -5.6057e-01,\n",
      "          2.8684e-01,  1.2898e+00, -1.1542e+00, -1.7214e+00, -9.1673e-01,\n",
      "          2.8479e-01,  3.6502e-01],\n",
      "        [ 2.9437e-01,  3.4890e-01, -6.1683e-02,  1.5364e-01, -9.3758e-01,\n",
      "          8.2190e-01, -1.0778e+00, -4.1184e-01, -1.9945e+00, -8.1997e-01,\n",
      "          8.4902e-01, -3.7376e-01,  1.0771e+00, -8.4678e-01,  5.7065e-01,\n",
      "          7.9772e-02, -8.5910e-02,  4.2742e-01, -6.0097e-01, -1.9424e+00,\n",
      "          1.4845e+00,  7.1407e-01,  5.5812e-02, -6.3322e-01, -3.7302e-01,\n",
      "          7.0129e-01,  9.6581e-01,  1.0236e+00, -7.8459e-01,  1.7271e+00,\n",
      "          7.1960e-01,  6.2546e-01],\n",
      "        [ 1.6568e+00, -3.3593e-01, -5.0497e-01, -2.2280e-01,  1.3756e+00,\n",
      "         -6.1267e-01,  1.4389e-02,  9.0955e-01, -2.5378e-01, -6.6024e-01,\n",
      "          9.6208e-01, -1.9155e+00,  3.6704e-01, -1.3310e+00,  1.5408e-01,\n",
      "          9.6974e-02,  9.7863e-01,  1.7792e+00, -8.6334e-01,  4.8893e-01,\n",
      "         -5.7236e-01,  5.6194e-01, -1.5471e+00,  1.2461e+00, -1.6357e+00,\n",
      "          4.1581e-01,  6.3471e-01, -9.6108e-01, -2.1408e-01, -3.0905e-01,\n",
      "          3.8820e-01, -4.3979e-03],\n",
      "        [ 6.6822e-01,  1.6537e+00, -1.1958e+00, -2.5754e-01,  1.9803e-01,\n",
      "         -3.0553e-01, -1.1160e-01, -3.2529e-01,  3.9620e-01,  1.4543e+00,\n",
      "          1.4285e+00, -6.1246e-01, -4.5493e-01, -6.0301e-01, -1.9729e-01,\n",
      "         -1.4184e+00,  1.9507e+00, -1.0286e-01,  1.0126e-01, -2.8316e-02,\n",
      "          1.2715e+00,  2.3674e-01,  2.2244e+00, -2.5169e+00,  1.9058e-01,\n",
      "         -6.1224e-01,  1.3692e+00, -1.1129e+00, -2.2070e+00,  4.8860e-01,\n",
      "         -6.5394e-01, -1.8168e+00]])\n",
      "tensor([[0., 0., 0., 0., 0., 0., 0., 1., 0., 0.],\n",
      "        [0., 0., 0., 0., 0., 0., 0., 1., 0., 0.],\n",
      "        [0., 0., 0., 0., 0., 0., 0., 1., 0., 0.],\n",
      "        [0., 0., 0., 0., 0., 0., 0., 1., 0., 0.],\n",
      "        [0., 0., 0., 0., 0., 0., 0., 1., 0., 0.],\n",
      "        [0., 0., 0., 0., 0., 0., 0., 1., 0., 0.],\n",
      "        [0., 0., 0., 0., 0., 0., 0., 1., 0., 0.],\n",
      "        [0., 0., 0., 0., 0., 0., 0., 1., 0., 0.],\n",
      "        [0., 0., 0., 0., 0., 0., 0., 1., 0., 0.],\n",
      "        [0., 0., 0., 0., 0., 0., 0., 1., 0., 0.],\n",
      "        [0., 0., 0., 0., 0., 0., 0., 1., 0., 0.],\n",
      "        [0., 0., 0., 0., 0., 0., 0., 1., 0., 0.],\n",
      "        [0., 0., 0., 0., 0., 0., 0., 1., 0., 0.],\n",
      "        [0., 0., 0., 0., 0., 0., 0., 1., 0., 0.],\n",
      "        [0., 0., 0., 0., 0., 0., 0., 1., 0., 0.],\n",
      "        [0., 0., 0., 0., 0., 0., 0., 1., 0., 0.]])\n"
     ]
    },
    {
     "ename": "RuntimeError",
     "evalue": "Sizes of tensors must match except in dimension 1. Expected size 16 but got size 10 for tensor number 1 in the list.",
     "output_type": "error",
     "traceback": [
      "\u001b[1;31m---------------------------------------------------------------------------\u001b[0m",
      "\u001b[1;31mRuntimeError\u001b[0m                              Traceback (most recent call last)",
      "Cell \u001b[1;32mIn[8], line 9\u001b[0m\n\u001b[0;32m      6\u001b[0m \u001b[38;5;66;03m# Generate a batch of 7s\u001b[39;00m\n\u001b[0;32m      7\u001b[0m y \u001b[38;5;241m=\u001b[39m Variable(onehot(\u001b[38;5;241m10\u001b[39m)(\u001b[38;5;241m7\u001b[39m)\u001b[38;5;241m.\u001b[39mrepeat(\u001b[38;5;241m16\u001b[39m, \u001b[38;5;241m1\u001b[39m))\n\u001b[1;32m----> 9\u001b[0m x_mu \u001b[38;5;241m=\u001b[39m \u001b[43mmodel\u001b[49m\u001b[38;5;241;43m.\u001b[39;49m\u001b[43msample\u001b[49m\u001b[43m(\u001b[49m\u001b[43mz\u001b[49m\u001b[43m,\u001b[49m\u001b[43m \u001b[49m\u001b[43my\u001b[49m\u001b[43m)\u001b[49m\n",
      "File \u001b[1;32mc:\\Users\\jwang47\\OneDrive - Delft University of Technology\\Generate_Volatility_Surface\\Code\\semi-supervised-pytorch20241028\\examples\\notebooks\\../../semi-supervised\\models\\dgm.py:110\u001b[0m, in \u001b[0;36mDeepGenerativeModel.sample\u001b[1;34m(self, z, y)\u001b[0m\n\u001b[0;32m    108\u001b[0m \u001b[38;5;28mprint\u001b[39m(z)\n\u001b[0;32m    109\u001b[0m \u001b[38;5;28mprint\u001b[39m(y)\n\u001b[1;32m--> 110\u001b[0m x \u001b[38;5;241m=\u001b[39m \u001b[38;5;28mself\u001b[39m\u001b[38;5;241m.\u001b[39mdecoder(\u001b[43mtorch\u001b[49m\u001b[38;5;241;43m.\u001b[39;49m\u001b[43mcat\u001b[49m\u001b[43m(\u001b[49m\u001b[43m[\u001b[49m\u001b[43mz\u001b[49m\u001b[43m,\u001b[49m\u001b[43m \u001b[49m\u001b[43my\u001b[49m\u001b[38;5;241;43m.\u001b[39;49m\u001b[43mt\u001b[49m\u001b[43m(\u001b[49m\u001b[43m)\u001b[49m\u001b[43m]\u001b[49m\u001b[43m,\u001b[49m\u001b[43m \u001b[49m\u001b[43mdim\u001b[49m\u001b[38;5;241;43m=\u001b[39;49m\u001b[38;5;241;43m1\u001b[39;49m\u001b[43m)\u001b[49m)\n\u001b[0;32m    111\u001b[0m \u001b[38;5;28;01mreturn\u001b[39;00m x\n",
      "\u001b[1;31mRuntimeError\u001b[0m: Sizes of tensors must match except in dimension 1. Expected size 16 but got size 10 for tensor number 1 in the list."
     ]
    }
   ],
   "source": [
    "from utils import onehot\n",
    "model.eval()\n",
    "\n",
    "z = Variable(torch.randn(16, 32))\n",
    "\n",
    "# Generate a batch of 7s\n",
    "y = Variable(torch.([_/10 for _ in range(10)]))\n",
    "\n",
    "x_mu = model.sample(z, y)"
   ]
  },
  {
   "cell_type": "code",
   "execution_count": 9,
   "metadata": {},
   "outputs": [
    {
     "data": {
      "text/plain": [
       "<mpl_toolkits.mplot3d.art3d.Poly3DCollection at 0x1b05d7851f0>"
      ]
     },
     "execution_count": 9,
     "metadata": {},
     "output_type": "execute_result"
    },
    {
     "data": {
      "image/png": "[encoded data removed]",
      "text/plain": [
       "<Figure size 640x480 with 1 Axes>"
      ]
     },
     "metadata": {},
     "output_type": "display_data"
    }
   ],
   "source": [
    "import matplotlib.pyplot as plt\n",
    "from mpl_toolkits.mplot3d import Axes3D\n",
    "\n",
    "# f, axarr = plt.subplots(1, 16, figsize=(18, 12))\n",
    "\n",
    "samples = x_mu.data.view(-1, 1, 28, 28).numpy()\n",
    "\n",
    "# for i, ax in enumerate(axarr.flat):\n",
    "#     ax.imshow(samples[i])\n",
    "#     ax.axis(\"off\")\n",
    "\n",
    "T = np.linspace(0.1, 0.6, 28)\n",
    "K = np.linspace(0.7, 1.3, 28)\n",
    "T, K = np.meshgrid(T, K)\n",
    "\n",
    "fig = plt.figure()\n",
    "ax = fig.add_subplot(111, projection='3d')\n",
    "ax.plot_surface(K, T, samples[0, 0, :, :], cmap='viridis')"
   ]
  },
  {
   "cell_type": "markdown",
   "metadata": {},
   "source": [
    "## Stacked Deep Generative Model\n",
    "\n",
    "The M1+M2 model also described in the same paper is an M1 model (VAE) with an M2 model stacked on top of it. That means that we train the a VAE end-to-end on the data given dataset, then we use the learned encoder as a feature extractor and feed the data transformed by the M1 encoder into the M2 model.\n",
    "\n",
    "We approach is somewhat similar to restricted boltzmann machines (RBMs) in the sense that we perform a layerwise training of the whole model by first training a level-1 feature extractor and stacking another model on top of this. The stacked model is therefore also more modular, but cannot be trained end-to-end, which is a downside."
   ]
  },
  {
   "cell_type": "code",
   "execution_count": 10,
   "metadata": {},
   "outputs": [],
   "source": [
    "from models import VariationalAutoencoder, StackedDeepGenerativeModel\n",
    "\n",
    "features = VariationalAutoencoder([784, z_dim, h_dim])\n",
    "model = StackedDeepGenerativeModel([784, y_dim, z_dim, h_dim], features)"
   ]
  },
  {
   "cell_type": "markdown",
   "metadata": {},
   "source": [
    "Typically, you would want to load a pretrained feature extractor VAE instead."
   ]
  },
  {
   "cell_type": "code",
   "execution_count": 11,
   "metadata": {},
   "outputs": [
    {
     "name": "stderr",
     "output_type": "stream",
     "text": [
      "C:\\Users\\jwang47\\AppData\\Local\\Temp\\ipykernel_15576\\1198095296.py:1: FutureWarning: You are using `torch.load` with `weights_only=False` (the current default value), which uses the default pickle module implicitly. It is possible to construct malicious pickle data which will execute arbitrary code during unpickling (See https://github.com/pytorch/pytorch/blob/main/SECURITY.md#untrusted-models for more details). In a future release, the default value for `weights_only` will be flipped to `True`. This limits the functions that could be executed during unpickling. Arbitrary objects will no longer be allowed to be loaded via this mode unless they are explicitly allowlisted by the user via `torch.serialization.add_safe_globals`. We recommend you start setting `weights_only=True` for any use case where you don't have full control of the loaded file. Please open an issue on GitHub for any issues related to this experimental feature.\n",
      "  features = torch.load(\"./your-pretrained-vae.pt\")\n"
     ]
    },
    {
     "ename": "FileNotFoundError",
     "evalue": "[Errno 2] No such file or directory: './your-pretrained-vae.pt'",
     "output_type": "error",
     "traceback": [
      "\u001b[1;31m---------------------------------------------------------------------------\u001b[0m",
      "\u001b[1;31mFileNotFoundError\u001b[0m                         Traceback (most recent call last)",
      "Cell \u001b[1;32mIn[11], line 1\u001b[0m\n\u001b[1;32m----> 1\u001b[0m features \u001b[38;5;241m=\u001b[39m \u001b[43mtorch\u001b[49m\u001b[38;5;241;43m.\u001b[39;49m\u001b[43mload\u001b[49m\u001b[43m(\u001b[49m\u001b[38;5;124;43m\"\u001b[39;49m\u001b[38;5;124;43m./your-pretrained-vae.pt\u001b[39;49m\u001b[38;5;124;43m\"\u001b[39;49m\u001b[43m)\u001b[49m\n",
      "File \u001b[1;32mc:\\Users\\jwang47\\AppData\\Local\\anaconda3\\envs\\pytorch20241014\\Lib\\site-packages\\torch\\serialization.py:1065\u001b[0m, in \u001b[0;36mload\u001b[1;34m(f, map_location, pickle_module, weights_only, mmap, **pickle_load_args)\u001b[0m\n\u001b[0;32m   1062\u001b[0m \u001b[38;5;28;01mif\u001b[39;00m \u001b[38;5;124m'\u001b[39m\u001b[38;5;124mencoding\u001b[39m\u001b[38;5;124m'\u001b[39m \u001b[38;5;129;01mnot\u001b[39;00m \u001b[38;5;129;01min\u001b[39;00m pickle_load_args\u001b[38;5;241m.\u001b[39mkeys():\n\u001b[0;32m   1063\u001b[0m     pickle_load_args[\u001b[38;5;124m'\u001b[39m\u001b[38;5;124mencoding\u001b[39m\u001b[38;5;124m'\u001b[39m] \u001b[38;5;241m=\u001b[39m \u001b[38;5;124m'\u001b[39m\u001b[38;5;124mutf-8\u001b[39m\u001b[38;5;124m'\u001b[39m\n\u001b[1;32m-> 1065\u001b[0m \u001b[38;5;28;01mwith\u001b[39;00m \u001b[43m_open_file_like\u001b[49m\u001b[43m(\u001b[49m\u001b[43mf\u001b[49m\u001b[43m,\u001b[49m\u001b[43m \u001b[49m\u001b[38;5;124;43m'\u001b[39;49m\u001b[38;5;124;43mrb\u001b[39;49m\u001b[38;5;124;43m'\u001b[39;49m\u001b[43m)\u001b[49m \u001b[38;5;28;01mas\u001b[39;00m opened_file:\n\u001b[0;32m   1066\u001b[0m     \u001b[38;5;28;01mif\u001b[39;00m _is_zipfile(opened_file):\n\u001b[0;32m   1067\u001b[0m         \u001b[38;5;66;03m# The zipfile reader is going to advance the current file position.\u001b[39;00m\n\u001b[0;32m   1068\u001b[0m         \u001b[38;5;66;03m# If we want to actually tail call to torch.jit.load, we need to\u001b[39;00m\n\u001b[0;32m   1069\u001b[0m         \u001b[38;5;66;03m# reset back to the original position.\u001b[39;00m\n\u001b[0;32m   1070\u001b[0m         orig_position \u001b[38;5;241m=\u001b[39m opened_file\u001b[38;5;241m.\u001b[39mtell()\n",
      "File \u001b[1;32mc:\\Users\\jwang47\\AppData\\Local\\anaconda3\\envs\\pytorch20241014\\Lib\\site-packages\\torch\\serialization.py:468\u001b[0m, in \u001b[0;36m_open_file_like\u001b[1;34m(name_or_buffer, mode)\u001b[0m\n\u001b[0;32m    466\u001b[0m \u001b[38;5;28;01mdef\u001b[39;00m \u001b[38;5;21m_open_file_like\u001b[39m(name_or_buffer, mode):\n\u001b[0;32m    467\u001b[0m     \u001b[38;5;28;01mif\u001b[39;00m _is_path(name_or_buffer):\n\u001b[1;32m--> 468\u001b[0m         \u001b[38;5;28;01mreturn\u001b[39;00m \u001b[43m_open_file\u001b[49m\u001b[43m(\u001b[49m\u001b[43mname_or_buffer\u001b[49m\u001b[43m,\u001b[49m\u001b[43m \u001b[49m\u001b[43mmode\u001b[49m\u001b[43m)\u001b[49m\n\u001b[0;32m    469\u001b[0m     \u001b[38;5;28;01melse\u001b[39;00m:\n\u001b[0;32m    470\u001b[0m         \u001b[38;5;28;01mif\u001b[39;00m \u001b[38;5;124m'\u001b[39m\u001b[38;5;124mw\u001b[39m\u001b[38;5;124m'\u001b[39m \u001b[38;5;129;01min\u001b[39;00m mode:\n",
      "File \u001b[1;32mc:\\Users\\jwang47\\AppData\\Local\\anaconda3\\envs\\pytorch20241014\\Lib\\site-packages\\torch\\serialization.py:449\u001b[0m, in \u001b[0;36m_open_file.__init__\u001b[1;34m(self, name, mode)\u001b[0m\n\u001b[0;32m    448\u001b[0m \u001b[38;5;28;01mdef\u001b[39;00m \u001b[38;5;21m__init__\u001b[39m(\u001b[38;5;28mself\u001b[39m, name, mode):\n\u001b[1;32m--> 449\u001b[0m     \u001b[38;5;28msuper\u001b[39m()\u001b[38;5;241m.\u001b[39m\u001b[38;5;21m__init__\u001b[39m(\u001b[38;5;28;43mopen\u001b[39;49m\u001b[43m(\u001b[49m\u001b[43mname\u001b[49m\u001b[43m,\u001b[49m\u001b[43m \u001b[49m\u001b[43mmode\u001b[49m\u001b[43m)\u001b[49m)\n",
      "\u001b[1;31mFileNotFoundError\u001b[0m: [Errno 2] No such file or directory: './your-pretrained-vae.pt'"
     ]
    }
   ],
   "source": [
    "features = torch.load(\"./your-pretrained-vae.pt\")"
   ]
  },
  {
   "cell_type": "code",
   "execution_count": null,
   "metadata": {},
   "outputs": [],
   "source": [
    "from torch.autograd import Variable\n",
    "\n",
    "for epoch in range(10):\n",
    "    model.train()\n",
    "    total_loss, accuracy = (0, 0)\n",
    "    for (x, y), (u, _) in zip(cycle(labelled), unlabelled):\n",
    "        # Wrap in variables\n",
    "        x, y, u = Variable(x), Variable(y), Variable(u)\n",
    "\n",
    "        if cuda:\n",
    "            # They need to be on the same device and be synchronized.\n",
    "            x, y = x.cuda(device=0), y.cuda(device=0)\n",
    "            u = u.cuda(device=0)\n",
    "\n",
    "        L = -elbo(x, y)\n",
    "        U = -elbo(u)\n",
    "\n",
    "        # Add auxiliary classification loss q(y|x)\n",
    "        logits = model.classify(x)\n",
    "        \n",
    "        # Regular cross entropy\n",
    "        classication_loss = torch.sum(y * torch.log(logits + 1e-8), dim=1).mean()\n",
    "\n",
    "        J_alpha = L - alpha * classication_loss + U\n",
    "\n",
    "        J_alpha.backward()\n",
    "        optimizer.step()\n",
    "        optimizer.zero_grad()\n",
    "\n",
    "        total_loss += J_alpha.data[0]\n",
    "        accuracy += torch.mean((torch.max(logits, 1)[1].data == torch.max(y, 1)[1].data).float())\n",
    "        \n",
    "    if epoch % 1 == 0:\n",
    "        model.eval()\n",
    "        m = len(unlabelled)\n",
    "        print(\"Epoch: {}\".format(epoch))\n",
    "        print(\"[Train]\\t\\t J_a: {:.2f}, accuracy: {:.2f}\".format(total_loss / m, accuracy / m))\n",
    "\n",
    "        total_loss, accuracy = (0, 0)\n",
    "        for x, y in validation:\n",
    "            x, y = Variable(x), Variable(y)\n",
    "\n",
    "            if cuda:\n",
    "                x, y = x.cuda(device=0), y.cuda(device=0)\n",
    "\n",
    "            L = -elbo(x, y)\n",
    "            U = -elbo(x)\n",
    "\n",
    "            logits = model.classify(x)\n",
    "            classication_loss = -torch.sum(y * torch.log(logits + 1e-8), dim=1).mean()\n",
    "\n",
    "            J_alpha = L + alpha * classication_loss + U\n",
    "\n",
    "            total_loss += J_alpha.data[0]\n",
    "\n",
    "            _, pred_idx = torch.max(logits, 1)\n",
    "            _, lab_idx = torch.max(y, 1)\n",
    "            accuracy += torch.mean((torch.max(logits, 1)[1].data == torch.max(y, 1)[1].data).float())\n",
    "\n",
    "        m = len(validation)\n",
    "        print(\"[Validation]\\t J_a: {:.2f}, accuracy: {:.2f}\".format(total_loss / m, accuracy / m))"
   ]
  },
  {
   "cell_type": "markdown",
   "metadata": {},
   "source": [
    "## Additional tips\n",
    "\n",
    "You can change the built-in classifier with your own, for example if you want a CNN as a classifier you can do the following."
   ]
  },
  {
   "cell_type": "code",
   "execution_count": 45,
   "metadata": {},
   "outputs": [],
   "source": [
    "import torch.nn as nn\n",
    "import torch.nn.functional as F\n",
    "\n",
    "class ConvolutionalClassifier(nn.Module):\n",
    "    def __init__(self):\n",
    "        super(ConvolutionalClassifier, self).__init__()        \n",
    "        self.conv1 = nn.Conv2d(1, 64, kernel_size=3)\n",
    "        self.conv2 = nn.Conv2d(64, 32, kernel_size=3)\n",
    "        self.pool = nn.MaxPool2d(kernel_size=4)\n",
    "\n",
    "        size = int((28 - 3) + 1)//4\n",
    "        size = int((size - 3) + 1)//4\n",
    "                \n",
    "        self.fc1 = nn.Linear(32*size**2, 50)\n",
    "        self.fc2 = nn.Linear(50, 10)\n",
    "        \n",
    "    def forward(self, x):\n",
    "        batch, *_ = x.size()\n",
    "        x = x.view(-1, 1, 28, 28)\n",
    "        x = F.relu(self.conv1(x))\n",
    "        x = self.pool(x)\n",
    "        x = F.relu(self.conv2(x))\n",
    "        x = self.pool(x)\n",
    "        x = F.relu(x.view(batch, -1))\n",
    "        x = self.fc1(x)\n",
    "        x = self.fc2(x)\n",
    "        return F.softmax(x, dim=-1)\n",
    "\n",
    "classifier = ConvolutionalClassifier()\n",
    "model.classifier = classifier"
   ]
  },
  {
   "cell_type": "code",
   "execution_count": 47,
   "metadata": {},
   "outputs": [
    {
     "data": {
      "text/plain": [
       "DeepGenerativeModel(\n",
       "  (encoder): Encoder(\n",
       "    (hidden): ModuleList(\n",
       "      (0): Linear(in_features=794, out_features=256)\n",
       "      (1): Linear(in_features=256, out_features=128)\n",
       "    )\n",
       "    (sample): GaussianSample(\n",
       "      (mu): Linear(in_features=128, out_features=32)\n",
       "      (log_var): Linear(in_features=128, out_features=32)\n",
       "    )\n",
       "  )\n",
       "  (decoder): Decoder(\n",
       "    (hidden): ModuleList(\n",
       "      (0): Linear(in_features=42, out_features=128)\n",
       "      (1): Linear(in_features=128, out_features=256)\n",
       "    )\n",
       "    (reconstruction): Linear(in_features=256, out_features=784)\n",
       "    (output_activation): Sigmoid()\n",
       "  )\n",
       "  (classifier): ConvolutionalClassifier(\n",
       "    (conv1): Conv2d (1, 64, kernel_size=(3, 3), stride=(1, 1))\n",
       "    (conv2): Conv2d (64, 32, kernel_size=(3, 3), stride=(1, 1))\n",
       "    (pool): MaxPool2d(kernel_size=(4, 4), stride=(4, 4), dilation=(1, 1))\n",
       "    (fc1): Linear(in_features=32, out_features=50)\n",
       "    (fc2): Linear(in_features=50, out_features=10)\n",
       "  )\n",
       ")"
      ]
     },
     "execution_count": 47,
     "metadata": {},
     "output_type": "execute_result"
    }
   ],
   "source": [
    "model"
   ]
  },
  {
   "cell_type": "code",
   "execution_count": null,
   "metadata": {},
   "outputs": [],
   "source": []
  }
 ],
 "metadata": {
  "kernelspec": {
   "display_name": "pytorch20241014",
   "language": "python",
   "name": "python3"
  },
  "language_info": {
   "codemirror_mode": {
    "name": "ipython",
    "version": 3
   },
   "file_extension": ".py",
   "mimetype": "text/x-python",
   "name": "python",
   "nbconvert_exporter": "python",
   "pygments_lexer": "ipython3",
   "version": "3.12.7"
  }
 },
 "nbformat": 4,
 "nbformat_minor": 2
}
